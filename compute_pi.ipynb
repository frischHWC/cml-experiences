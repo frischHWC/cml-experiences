{
 "cells": [
  {
   "cell_type": "markdown",
   "id": "75ed6fdf-46d1-4279-a654-75adb64b6d56",
   "metadata": {
    "tags": []
   },
   "source": [
    "# My first Notebook"
   ]
  },
  {
   "cell_type": "code",
   "execution_count": 3,
   "id": "1614e33b-740b-42f0-b5bd-9b5631324cc8",
   "metadata": {
    "tags": []
   },
   "outputs": [
    {
     "name": "stdout",
     "output_type": "stream",
     "text": [
      "Begining of my application\n"
     ]
    }
   ],
   "source": [
    "print(\"Begining of my application\")"
   ]
  },
  {
   "cell_type": "code",
   "execution_count": 5,
   "id": "02b9fcba-7c0f-4514-a28d-733d44caf340",
   "metadata": {
    "tags": []
   },
   "outputs": [
    {
     "name": "stdout",
     "output_type": "stream",
     "text": [
      "3.1415916535897743\n"
     ]
    }
   ],
   "source": [
    "# Initialize denominator\n",
    "k = 1\n",
    "\n",
    "# Initialize sum\n",
    "s = 0\n",
    "\n",
    "for i in range(1000000):\n",
    "\n",
    "\t# even index elements are positive\n",
    "\tif i % 2 == 0:\n",
    "\t\ts += 4/k\n",
    "\telse:\n",
    "\t\t# odd index elements are negative\n",
    "\t\ts -= 4/k\n",
    "\n",
    "\t# denominator is odd\n",
    "\tk += 2\n",
    "\t\n",
    "print(s)\n"
   ]
  },
  {
   "cell_type": "code",
   "execution_count": 6,
   "id": "1da7c8f1-d682-4716-8c7d-e65049b137e2",
   "metadata": {
    "tags": []
   },
   "outputs": [
    {
     "name": "stdout",
     "output_type": "stream",
     "text": [
      "Well done\n"
     ]
    }
   ],
   "source": [
    "print(\"Well done\")"
   ]
  },
  {
   "cell_type": "raw",
   "id": "68bc9384-a187-4bf2-b6e0-a76d90184382",
   "metadata": {},
   "source": []
  }
 ],
 "metadata": {
  "kernelspec": {
   "display_name": "Python 3 (ipykernel)",
   "language": "python",
   "name": "python3"
  },
  "language_info": {
   "codemirror_mode": {
    "name": "ipython",
    "version": 3
   },
   "file_extension": ".py",
   "mimetype": "text/x-python",
   "name": "python",
   "nbconvert_exporter": "python",
   "pygments_lexer": "ipython3",
   "version": "3.9.16"
  }
 },
 "nbformat": 4,
 "nbformat_minor": 5
}
